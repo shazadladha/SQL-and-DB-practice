{
 "cells": [
  {
   "cell_type": "markdown",
   "metadata": {},
   "source": [
    "<a href=\"https://cognitiveclass.ai\"><img src = \"https://ibm.box.com/shared/static/ugcqz6ohbvff804xp84y4kqnvvk3bq1g.png\" width = 300, align = \"center\"></a>\n",
    "\n",
    "<h1 align=center><font size = 5>Assignment: Notebook for Peer Assignment</font></h1>"
   ]
  },
  {
   "cell_type": "markdown",
   "metadata": {},
   "source": [
    "# Introduction\n",
    "\n",
    "Using this Python notebook you will:\n",
    "1. Understand 3 Chicago datasets  \n",
    "1. Load the 3 datasets into 3 tables in a Db2 database\n",
    "1. Execute SQL queries to answer assignment questions "
   ]
  },
  {
   "cell_type": "markdown",
   "metadata": {},
   "source": [
    "## Understand the datasets \n",
    "To complete the assignment problems in this notebook you will be using three datasets that are available on the city of Chicago's Data Portal:\n",
    "1. <a href=\"https://data.cityofchicago.org/Health-Human-Services/Census-Data-Selected-socioeconomic-indicators-in-C/kn9c-c2s2\">Socioeconomic Indicators in Chicago</a>\n",
    "1. <a href=\"https://data.cityofchicago.org/Education/Chicago-Public-Schools-Progress-Report-Cards-2011-/9xs2-f89t\">Chicago Public Schools</a>\n",
    "1. <a href=\"https://data.cityofchicago.org/Public-Safety/Crimes-2001-to-present/ijzp-q8t2\">Chicago Crime Data</a>\n",
    "\n",
    "### 1. Socioeconomic Indicators in Chicago\n",
    "This dataset contains a selection of six socioeconomic indicators of public health significance and a “hardship index,” for each Chicago community area, for the years 2008 – 2012.\n",
    "\n",
    "For this assignment you will use a snapshot of this dataset which can be downloaded from:\n",
    "https://ibm.box.com/shared/static/05c3415cbfbtfnr2fx4atenb2sd361ze.csv\n",
    "\n",
    "A detailed description of this dataset and the original dataset can be obtained from the Chicago Data Portal at:\n",
    "https://data.cityofchicago.org/Health-Human-Services/Census-Data-Selected-socioeconomic-indicators-in-C/kn9c-c2s2\n",
    "\n",
    "\n",
    "\n",
    "### 2. Chicago Public Schools\n",
    "\n",
    "This dataset shows all school level performance data used to create CPS School Report Cards for the 2011-2012 school year. This dataset is provided by the city of Chicago's Data Portal.\n",
    "\n",
    "For this assignment you will use a snapshot of this dataset which can be downloaded from:\n",
    "https://ibm.box.com/shared/static/f9gjvj1gjmxxzycdhplzt01qtz0s7ew7.csv\n",
    "\n",
    "A detailed description of this dataset and the original dataset can be obtained from the Chicago Data Portal at:\n",
    "https://data.cityofchicago.org/Education/Chicago-Public-Schools-Progress-Report-Cards-2011-/9xs2-f89t\n",
    "\n",
    "\n",
    "\n",
    "\n",
    "### 3. Chicago Crime Data \n",
    "\n",
    "This dataset reflects reported incidents of crime (with the exception of murders where data exists for each victim) that occurred in the City of Chicago from 2001 to present, minus the most recent seven days. \n",
    "\n",
    "This dataset is quite large - over 1.5GB in size with over 6.5 million rows. For the purposes of this assignment we will use a much smaller sample of this dataset which can be downloaded from:\n",
    "https://ibm.box.com/shared/static/svflyugsr9zbqy5bmowgswqemfpm1x7f.csv\n",
    "\n",
    "A detailed description of this dataset and the original dataset can be obtained from the Chicago Data Portal at:\n",
    "https://data.cityofchicago.org/Public-Safety/Crimes-2001-to-present/ijzp-q8t2\n"
   ]
  },
  {
   "cell_type": "markdown",
   "metadata": {},
   "source": [
    "### Download the datasets\n",
    "In many cases the dataset to be analyzed is available as a .CSV (comma separated values) file, perhaps on the internet. Click on the links below to download and save the datasets (.CSV files):\n",
    "1. __CENSUS_DATA:__ https://ibm.box.com/shared/static/05c3415cbfbtfnr2fx4atenb2sd361ze.csv\n",
    "1. __CHICAGO_PUBLIC_SCHOOLS__  https://ibm.box.com/shared/static/f9gjvj1gjmxxzycdhplzt01qtz0s7ew7.csv\n",
    "1. __CHICAGO_CRIME_DATA:__ https://ibm.box.com/shared/static/svflyugsr9zbqy5bmowgswqemfpm1x7f.csv\n",
    "\n",
    "__NOTE:__ Ensure you have downloaded the datasets using the links above instead of directly from the Chicago Data Portal. The versions linked here are subsets of the original datasets and have some of the column names modified to be more database friendly which will make it easier to complete this assignment."
   ]
  },
  {
   "cell_type": "markdown",
   "metadata": {},
   "source": [
    "### Store the datasets in database tables\n",
    "To analyze the data using SQL, it first needs to be stored in the database.\n",
    "\n",
    "While it is easier to read the dataset into a Pandas dataframe and then PERSIST it into the database as we saw in Week 3 Lab 3, it results in mapping to default datatypes which may not be optimal for SQL querying. For example a long textual field may map to a CLOB instead of a VARCHAR. \n",
    "\n",
    "Therefore, __it is highly recommended to manually load the table using the database console LOAD tool, as indicated in Week 2 Lab 1 Part II__. The only difference with that lab is that in Step 5 of the instructions you will need to click on create \"(+) New Table\" and specify the name of the table you want to create and then click \"Next\". \n",
    "\n",
    "<img src = \"https://ibm.box.com/shared/static/uc4xjh1uxcc78ks1i18v668simioz4es.jpg\">\n",
    "\n",
    "##### Now open the Db2 console, open the LOAD tool, Select / Drag the .CSV file for the first dataset, Next create a New Table, and then follow the steps on-screen instructions to load the data. Name the new tables as folows:\n",
    "1. __CENSUS_DATA__\n",
    "1. __CHICAGO_PUBLIC_SCHOOLS__\n",
    "1. __CHICAGO_CRIME_DATA__"
   ]
  },
  {
   "cell_type": "markdown",
   "metadata": {},
   "source": [
    "### Connect to the database \n",
    "Let us first load the SQL extension and establish a connection with the database"
   ]
  },
  {
   "cell_type": "code",
   "execution_count": 1,
   "metadata": {},
   "outputs": [],
   "source": [
    "%reload_ext sql"
   ]
  },
  {
   "cell_type": "markdown",
   "metadata": {},
   "source": [
    "In the next cell enter your db2 connection string. Recall you created Service Credentials for your Db2 instance in first lab in Week 3. From the __uri__ field of your Db2 service credentials copy everything after db2:// (except the double quote at the end) and paste it in the cell below after ibm_db_sa://\n",
    "\n",
    "<img src =\"https://ibm.box.com/shared/static/hzhkvdyinpupm2wfx49lkr71q9swbpec.jpg\">"
   ]
  },
  {
   "cell_type": "code",
   "execution_count": 2,
   "metadata": {},
   "outputs": [
    {
     "data": {
      "text/plain": [
       "'Connected: fmw28835@BLUDB'"
      ]
     },
     "execution_count": 2,
     "metadata": {},
     "output_type": "execute_result"
    }
   ],
   "source": [
    "# Remember the connection string is of the format:\n",
    "# %sql ibm_db_sa://my-username:my-password@my-hostname:my-port/my-db-name\n",
    "# Enter the connection string for your Db2 on Cloud database instance below\n",
    "%sql ibm_db_sa://fmw28835:k6vr9%2Bvbglc5011q@dashdb-txn-sbox-yp-lon02-13.services.eu-gb.bluemix.net:50000/BLUDB"
   ]
  },
  {
   "cell_type": "code",
   "execution_count": 3,
   "metadata": {},
   "outputs": [],
   "source": [
    "import ibm_db\n",
    "import pandas\n",
    "import ibm_db_dbi"
   ]
  },
  {
   "cell_type": "code",
   "execution_count": 7,
   "metadata": {},
   "outputs": [],
   "source": [
    "pconn = ibm_db_dbi.Connection(conn)"
   ]
  },
  {
   "cell_type": "code",
   "execution_count": 8,
   "metadata": {},
   "outputs": [],
   "source": [
    "dsn_driver = \"{IBM DB2 ODBC DRIVER}\"\n",
    "dsn_database = \"BLUDB\"            # e.g. \"BLUDB\"\n",
    "dsn_hostname = \"dashdb-txn-sbox-yp-lon02-13.services.eu-gb.bluemix.net\"            # e.g.: \"dashdb-txn-sbox-yp-dal09-04.services.dal.bluemix.net\"\n",
    "dsn_port = \"50000\"                    # e.g. \"50000\" \n",
    "dsn_protocol = \"TCPIP\"            # i.e. \"TCPIP\"\n",
    "dsn_uid = \"fmw28835\"                 # e.g. \"abc12345\"\n",
    "dsn_pwd = \"k6vr9+vbglc5011q\"    "
   ]
  },
  {
   "cell_type": "code",
   "execution_count": 9,
   "metadata": {},
   "outputs": [
    {
     "name": "stdout",
     "output_type": "stream",
     "text": [
      "Connected to database:  BLUDB as user:  fmw28835 on host:  dashdb-txn-sbox-yp-lon02-13.services.eu-gb.bluemix.net\n"
     ]
    }
   ],
   "source": [
    "dsn = (\n",
    "    \"DRIVER={0};\"\n",
    "    \"DATABASE={1};\"\n",
    "    \"HOSTNAME={2};\"\n",
    "    \"PORT={3};\"\n",
    "    \"PROTOCOL={4};\"\n",
    "    \"UID={5};\"\n",
    "    \"PWD={6};\").format(dsn_driver, dsn_database, dsn_hostname, dsn_port, dsn_protocol, dsn_uid, dsn_pwd)\n",
    "\n",
    "try:\n",
    "    conn = ibm_db.connect(dsn, \"\", \"\")\n",
    "    print (\"Connected to database: \", dsn_database, \"as user: \", dsn_uid, \"on host: \", dsn_hostname)\n",
    "\n",
    "except:\n",
    "    print (\"Unable to connect: \", ibm_db.conn_errormsg() )\n"
   ]
  },
  {
   "cell_type": "markdown",
   "metadata": {},
   "source": [
    "## Problems\n",
    "Now write and execute SQL queries to solve assignment problems\n",
    "\n",
    "### Problem 1\n",
    "\n",
    "##### Find the total number of crimes recorded in the CRIME table"
   ]
  },
  {
   "cell_type": "code",
   "execution_count": 10,
   "metadata": {},
   "outputs": [
    {
     "data": {
      "text/plain": [
       "533"
      ]
     },
     "execution_count": 10,
     "metadata": {},
     "output_type": "execute_result"
    }
   ],
   "source": [
    "# Rows in Crime table\n",
    "#Construct the query that retrieves all rows from the CRIME table\n",
    "selectQuery = \"SELECT * from CRIME_DATA\"\n",
    "\n",
    "#Execute the statement\n",
    "crime_df = pandas.read_sql(selectQuery, pconn)\n",
    "len(crime_df)"
   ]
  },
  {
   "cell_type": "code",
   "execution_count": 51,
   "metadata": {},
   "outputs": [
    {
     "name": "stdout",
     "output_type": "stream",
     "text": [
      " * ibm_db_sa://fmw28835:***@dashdb-txn-sbox-yp-lon02-13.services.eu-gb.bluemix.net:50000/BLUDB\n",
      "Done.\n"
     ]
    },
    {
     "data": {
      "text/html": [
       "<table>\n",
       "    <tr>\n",
       "        <th>1</th>\n",
       "    </tr>\n",
       "    <tr>\n",
       "        <td>533</td>\n",
       "    </tr>\n",
       "</table>"
      ],
      "text/plain": [
       "[(Decimal('533'),)]"
      ]
     },
     "execution_count": 51,
     "metadata": {},
     "output_type": "execute_result"
    }
   ],
   "source": [
    "%%sql\n",
    "SELECT COUNT(*) FROM CRIME_DATA"
   ]
  },
  {
   "cell_type": "markdown",
   "metadata": {},
   "source": [
    "### Problem 2\n",
    "\n",
    "##### Retrieve first 10 rows from the CRIME table\n"
   ]
  },
  {
   "cell_type": "code",
   "execution_count": 52,
   "metadata": {},
   "outputs": [
    {
     "name": "stdout",
     "output_type": "stream",
     "text": [
      " * ibm_db_sa://fmw28835:***@dashdb-txn-sbox-yp-lon02-13.services.eu-gb.bluemix.net:50000/BLUDB\n",
      "Done.\n"
     ]
    },
    {
     "data": {
      "text/html": [
       "<table>\n",
       "    <tr>\n",
       "        <th>Column_0</th>\n",
       "        <th>id</th>\n",
       "        <th>case_number</th>\n",
       "        <th>block</th>\n",
       "        <th>iucr</th>\n",
       "        <th>primary_type</th>\n",
       "        <th>description</th>\n",
       "        <th>location_description</th>\n",
       "        <th>arrest</th>\n",
       "        <th>domestic</th>\n",
       "        <th>beat</th>\n",
       "        <th>district</th>\n",
       "        <th>ward</th>\n",
       "        <th>community_area_number</th>\n",
       "        <th>fbicode</th>\n",
       "        <th>x_coordinate</th>\n",
       "        <th>y_coordinate</th>\n",
       "        <th>YEAR</th>\n",
       "        <th>latitude</th>\n",
       "        <th>longitude</th>\n",
       "        <th>location</th>\n",
       "    </tr>\n",
       "    <tr>\n",
       "        <td>0</td>\n",
       "        <td>3512276</td>\n",
       "        <td>HK587712</td>\n",
       "        <td>047XX S KEDZIE AVE</td>\n",
       "        <td>890</td>\n",
       "        <td>THEFT</td>\n",
       "        <td>FROM BUILDING</td>\n",
       "        <td>SMALL RETAIL STORE</td>\n",
       "        <td>False</td>\n",
       "        <td>False</td>\n",
       "        <td>911</td>\n",
       "        <td>9</td>\n",
       "        <td>14.0</td>\n",
       "        <td>58.0</td>\n",
       "        <td>6</td>\n",
       "        <td>1155838.0</td>\n",
       "        <td>1873050.0</td>\n",
       "        <td>2004</td>\n",
       "        <td>41.807440500000006</td>\n",
       "        <td>-87.70395585000000</td>\n",
       "        <td>(41.8074405, -87.703955849)</td>\n",
       "    </tr>\n",
       "    <tr>\n",
       "        <td>1</td>\n",
       "        <td>3406613</td>\n",
       "        <td>HK456306</td>\n",
       "        <td>009XX N CENTRAL PARK AVE</td>\n",
       "        <td>820</td>\n",
       "        <td>THEFT</td>\n",
       "        <td>$500 AND UNDER</td>\n",
       "        <td>OTHER</td>\n",
       "        <td>False</td>\n",
       "        <td>False</td>\n",
       "        <td>1112</td>\n",
       "        <td>11</td>\n",
       "        <td>27.0</td>\n",
       "        <td>23.0</td>\n",
       "        <td>6</td>\n",
       "        <td>1152206.0</td>\n",
       "        <td>1906127.0</td>\n",
       "        <td>2004</td>\n",
       "        <td>41.89827996</td>\n",
       "        <td>-87.71640551000000</td>\n",
       "        <td>(41.898279962, -87.716405505)</td>\n",
       "    </tr>\n",
       "    <tr>\n",
       "        <td>2</td>\n",
       "        <td>8002131</td>\n",
       "        <td>HT233595</td>\n",
       "        <td>043XX S WABASH AVE</td>\n",
       "        <td>820</td>\n",
       "        <td>THEFT</td>\n",
       "        <td>$500 AND UNDER</td>\n",
       "        <td>NURSING HOME/RETIREMENT HOME</td>\n",
       "        <td>False</td>\n",
       "        <td>False</td>\n",
       "        <td>221</td>\n",
       "        <td>2</td>\n",
       "        <td>3.0</td>\n",
       "        <td>38.0</td>\n",
       "        <td>6</td>\n",
       "        <td>1177436.0</td>\n",
       "        <td>1876313.0</td>\n",
       "        <td>2011</td>\n",
       "        <td>41.81593313</td>\n",
       "        <td>-87.62464213000000</td>\n",
       "        <td>(41.815933131, -87.624642127)</td>\n",
       "    </tr>\n",
       "    <tr>\n",
       "        <td>3</td>\n",
       "        <td>7903289</td>\n",
       "        <td>HT133522</td>\n",
       "        <td>083XX S KINGSTON AVE</td>\n",
       "        <td>840</td>\n",
       "        <td>THEFT</td>\n",
       "        <td>FINANCIAL ID THEFT: OVER $300</td>\n",
       "        <td>RESIDENCE</td>\n",
       "        <td>False</td>\n",
       "        <td>False</td>\n",
       "        <td>423</td>\n",
       "        <td>4</td>\n",
       "        <td>7.0</td>\n",
       "        <td>46.0</td>\n",
       "        <td>6</td>\n",
       "        <td>1194622.0</td>\n",
       "        <td>1850125.0</td>\n",
       "        <td>2010</td>\n",
       "        <td>41.74366532</td>\n",
       "        <td>-87.56246276000000</td>\n",
       "        <td>(41.743665322, -87.562462756)</td>\n",
       "    </tr>\n",
       "    <tr>\n",
       "        <td>4</td>\n",
       "        <td>10402076</td>\n",
       "        <td>HZ138551</td>\n",
       "        <td>033XX W 66TH ST</td>\n",
       "        <td>820</td>\n",
       "        <td>THEFT</td>\n",
       "        <td>$500 AND UNDER</td>\n",
       "        <td>ALLEY</td>\n",
       "        <td>False</td>\n",
       "        <td>False</td>\n",
       "        <td>831</td>\n",
       "        <td>8</td>\n",
       "        <td>15.0</td>\n",
       "        <td>66.0</td>\n",
       "        <td>6</td>\n",
       "        <td>1155240.0</td>\n",
       "        <td>1860661.0</td>\n",
       "        <td>2016</td>\n",
       "        <td>41.773455299999995</td>\n",
       "        <td>-87.70648047000000</td>\n",
       "        <td>(41.773455295, -87.706480471)</td>\n",
       "    </tr>\n",
       "    <tr>\n",
       "        <td>5</td>\n",
       "        <td>7732712</td>\n",
       "        <td>HS540106</td>\n",
       "        <td>006XX W CHICAGO AVE</td>\n",
       "        <td>810</td>\n",
       "        <td>THEFT</td>\n",
       "        <td>OVER $500</td>\n",
       "        <td>PARKING LOT/GARAGE(NON.RESID.)</td>\n",
       "        <td>False</td>\n",
       "        <td>False</td>\n",
       "        <td>1323</td>\n",
       "        <td>12</td>\n",
       "        <td>27.0</td>\n",
       "        <td>24.0</td>\n",
       "        <td>6</td>\n",
       "        <td>1171668.0</td>\n",
       "        <td>1905607.0</td>\n",
       "        <td>2010</td>\n",
       "        <td>41.89644677</td>\n",
       "        <td>-87.64493868000000</td>\n",
       "        <td>(41.896446772, -87.644938678)</td>\n",
       "    </tr>\n",
       "    <tr>\n",
       "        <td>6</td>\n",
       "        <td>10769475</td>\n",
       "        <td>HZ534771</td>\n",
       "        <td>050XX N KEDZIE AVE</td>\n",
       "        <td>810</td>\n",
       "        <td>THEFT</td>\n",
       "        <td>OVER $500</td>\n",
       "        <td>STREET</td>\n",
       "        <td>False</td>\n",
       "        <td>False</td>\n",
       "        <td>1713</td>\n",
       "        <td>17</td>\n",
       "        <td>33.0</td>\n",
       "        <td>14.0</td>\n",
       "        <td>6</td>\n",
       "        <td>1154133.0</td>\n",
       "        <td>1933314.0</td>\n",
       "        <td>2016</td>\n",
       "        <td>41.97284491</td>\n",
       "        <td>-87.70860008000000</td>\n",
       "        <td>(41.972844913, -87.708600079)</td>\n",
       "    </tr>\n",
       "    <tr>\n",
       "        <td>7</td>\n",
       "        <td>4494340</td>\n",
       "        <td>HL793243</td>\n",
       "        <td>005XX E PERSHING RD</td>\n",
       "        <td>860</td>\n",
       "        <td>THEFT</td>\n",
       "        <td>RETAIL THEFT</td>\n",
       "        <td>GROCERY FOOD STORE</td>\n",
       "        <td>True</td>\n",
       "        <td>False</td>\n",
       "        <td>213</td>\n",
       "        <td>2</td>\n",
       "        <td>3.0</td>\n",
       "        <td>38.0</td>\n",
       "        <td>6</td>\n",
       "        <td>1180448.0</td>\n",
       "        <td>1879234.0</td>\n",
       "        <td>2005</td>\n",
       "        <td>41.82387989</td>\n",
       "        <td>-87.61350386000000</td>\n",
       "        <td>(41.823879885, -87.613503857)</td>\n",
       "    </tr>\n",
       "    <tr>\n",
       "        <td>8</td>\n",
       "        <td>3778925</td>\n",
       "        <td>HL149610</td>\n",
       "        <td>100XX S WASHTENAW AVE</td>\n",
       "        <td>810</td>\n",
       "        <td>THEFT</td>\n",
       "        <td>OVER $500</td>\n",
       "        <td>STREET</td>\n",
       "        <td>False</td>\n",
       "        <td>False</td>\n",
       "        <td>2211</td>\n",
       "        <td>22</td>\n",
       "        <td>19.0</td>\n",
       "        <td>72.0</td>\n",
       "        <td>6</td>\n",
       "        <td>1160129.0</td>\n",
       "        <td>1838040.0</td>\n",
       "        <td>2005</td>\n",
       "        <td>41.71128051</td>\n",
       "        <td>-87.68917909999999</td>\n",
       "        <td>(41.711280513, -87.689179097)</td>\n",
       "    </tr>\n",
       "    <tr>\n",
       "        <td>9</td>\n",
       "        <td>3324217</td>\n",
       "        <td>HK361551</td>\n",
       "        <td>033XX W BELMONT AVE</td>\n",
       "        <td>820</td>\n",
       "        <td>THEFT</td>\n",
       "        <td>$500 AND UNDER</td>\n",
       "        <td>SMALL RETAIL STORE</td>\n",
       "        <td>False</td>\n",
       "        <td>False</td>\n",
       "        <td>1733</td>\n",
       "        <td>17</td>\n",
       "        <td>35.0</td>\n",
       "        <td>21.0</td>\n",
       "        <td>6</td>\n",
       "        <td>1153590.0</td>\n",
       "        <td>1921084.0</td>\n",
       "        <td>2004</td>\n",
       "        <td>41.93929582</td>\n",
       "        <td>-87.71092344000000</td>\n",
       "        <td>(41.939295821, -87.710923442)</td>\n",
       "    </tr>\n",
       "</table>"
      ],
      "text/plain": [
       "[(0, 3512276, 'HK587712', '047XX S KEDZIE AVE', '890', 'THEFT', 'FROM BUILDING', 'SMALL RETAIL STORE', 'False', 'False', 911, 9, Decimal('14.0'), Decimal('58.0'), '6', Decimal('1155838.0'), Decimal('1873050.0'), 2004, '41.807440500000006', Decimal('-87.70395585000000'), '(41.8074405, -87.703955849)'),\n",
       " (1, 3406613, 'HK456306', '009XX N CENTRAL PARK AVE', '820', 'THEFT', '$500 AND UNDER', 'OTHER', 'False', 'False', 1112, 11, Decimal('27.0'), Decimal('23.0'), '6', Decimal('1152206.0'), Decimal('1906127.0'), 2004, '41.89827996', Decimal('-87.71640551000000'), '(41.898279962, -87.716405505)'),\n",
       " (2, 8002131, 'HT233595', '043XX S WABASH AVE', '820', 'THEFT', '$500 AND UNDER', 'NURSING HOME/RETIREMENT HOME', 'False', 'False', 221, 2, Decimal('3.0'), Decimal('38.0'), '6', Decimal('1177436.0'), Decimal('1876313.0'), 2011, '41.81593313', Decimal('-87.62464213000000'), '(41.815933131, -87.624642127)'),\n",
       " (3, 7903289, 'HT133522', '083XX S KINGSTON AVE', '840', 'THEFT', 'FINANCIAL ID THEFT: OVER $300', 'RESIDENCE', 'False', 'False', 423, 4, Decimal('7.0'), Decimal('46.0'), '6', Decimal('1194622.0'), Decimal('1850125.0'), 2010, '41.74366532', Decimal('-87.56246276000000'), '(41.743665322, -87.562462756)'),\n",
       " (4, 10402076, 'HZ138551', '033XX W 66TH ST', '820', 'THEFT', '$500 AND UNDER', 'ALLEY', 'False', 'False', 831, 8, Decimal('15.0'), Decimal('66.0'), '6', Decimal('1155240.0'), Decimal('1860661.0'), 2016, '41.773455299999995', Decimal('-87.70648047000000'), '(41.773455295, -87.706480471)'),\n",
       " (5, 7732712, 'HS540106', '006XX W CHICAGO AVE', '810', 'THEFT', 'OVER $500', 'PARKING LOT/GARAGE(NON.RESID.)', 'False', 'False', 1323, 12, Decimal('27.0'), Decimal('24.0'), '6', Decimal('1171668.0'), Decimal('1905607.0'), 2010, '41.89644677', Decimal('-87.64493868000000'), '(41.896446772, -87.644938678)'),\n",
       " (6, 10769475, 'HZ534771', '050XX N KEDZIE AVE', '810', 'THEFT', 'OVER $500', 'STREET', 'False', 'False', 1713, 17, Decimal('33.0'), Decimal('14.0'), '6', Decimal('1154133.0'), Decimal('1933314.0'), 2016, '41.97284491', Decimal('-87.70860008000000'), '(41.972844913, -87.708600079)'),\n",
       " (7, 4494340, 'HL793243', '005XX E PERSHING RD', '860', 'THEFT', 'RETAIL THEFT', 'GROCERY FOOD STORE', 'True', 'False', 213, 2, Decimal('3.0'), Decimal('38.0'), '6', Decimal('1180448.0'), Decimal('1879234.0'), 2005, '41.82387989', Decimal('-87.61350386000000'), '(41.823879885, -87.613503857)'),\n",
       " (8, 3778925, 'HL149610', '100XX S WASHTENAW AVE', '810', 'THEFT', 'OVER $500', 'STREET', 'False', 'False', 2211, 22, Decimal('19.0'), Decimal('72.0'), '6', Decimal('1160129.0'), Decimal('1838040.0'), 2005, '41.71128051', Decimal('-87.68917909999999'), '(41.711280513, -87.689179097)'),\n",
       " (9, 3324217, 'HK361551', '033XX W BELMONT AVE', '820', 'THEFT', '$500 AND UNDER', 'SMALL RETAIL STORE', 'False', 'False', 1733, 17, Decimal('35.0'), Decimal('21.0'), '6', Decimal('1153590.0'), Decimal('1921084.0'), 2004, '41.93929582', Decimal('-87.71092344000000'), '(41.939295821, -87.710923442)')]"
      ]
     },
     "execution_count": 52,
     "metadata": {},
     "output_type": "execute_result"
    }
   ],
   "source": [
    "%%sql\n",
    "SELECT * FROM CRIME_DATA LIMIT 10"
   ]
  },
  {
   "cell_type": "code",
   "execution_count": 11,
   "metadata": {},
   "outputs": [
    {
     "data": {
      "text/html": [
       "<div>\n",
       "<style scoped>\n",
       "    .dataframe tbody tr th:only-of-type {\n",
       "        vertical-align: middle;\n",
       "    }\n",
       "\n",
       "    .dataframe tbody tr th {\n",
       "        vertical-align: top;\n",
       "    }\n",
       "\n",
       "    .dataframe thead th {\n",
       "        text-align: right;\n",
       "    }\n",
       "</style>\n",
       "<table border=\"1\" class=\"dataframe\">\n",
       "  <thead>\n",
       "    <tr style=\"text-align: right;\">\n",
       "      <th></th>\n",
       "      <th>Column_0</th>\n",
       "      <th>ID</th>\n",
       "      <th>CASE_NUMBER</th>\n",
       "      <th>BLOCK</th>\n",
       "      <th>IUCR</th>\n",
       "      <th>PRIMARY_TYPE</th>\n",
       "      <th>DESCRIPTION</th>\n",
       "      <th>LOCATION_DESCRIPTION</th>\n",
       "      <th>ARREST</th>\n",
       "      <th>DOMESTIC</th>\n",
       "      <th>...</th>\n",
       "      <th>DISTRICT</th>\n",
       "      <th>WARD</th>\n",
       "      <th>COMMUNITY_AREA_NUMBER</th>\n",
       "      <th>FBICODE</th>\n",
       "      <th>X_COORDINATE</th>\n",
       "      <th>Y_COORDINATE</th>\n",
       "      <th>YEAR</th>\n",
       "      <th>LATITUDE</th>\n",
       "      <th>LONGITUDE</th>\n",
       "      <th>LOCATION</th>\n",
       "    </tr>\n",
       "  </thead>\n",
       "  <tbody>\n",
       "    <tr>\n",
       "      <th>0</th>\n",
       "      <td>0</td>\n",
       "      <td>3512276</td>\n",
       "      <td>HK587712</td>\n",
       "      <td>047XX S KEDZIE AVE</td>\n",
       "      <td>890</td>\n",
       "      <td>THEFT</td>\n",
       "      <td>FROM BUILDING</td>\n",
       "      <td>SMALL RETAIL STORE</td>\n",
       "      <td>False</td>\n",
       "      <td>False</td>\n",
       "      <td>...</td>\n",
       "      <td>9</td>\n",
       "      <td>14.0</td>\n",
       "      <td>58.0</td>\n",
       "      <td>6</td>\n",
       "      <td>1155838.0</td>\n",
       "      <td>1873050.0</td>\n",
       "      <td>2004</td>\n",
       "      <td>41.807440500000006</td>\n",
       "      <td>-87.703956</td>\n",
       "      <td>(41.8074405, -87.703955849)</td>\n",
       "    </tr>\n",
       "    <tr>\n",
       "      <th>1</th>\n",
       "      <td>1</td>\n",
       "      <td>3406613</td>\n",
       "      <td>HK456306</td>\n",
       "      <td>009XX N CENTRAL PARK AVE</td>\n",
       "      <td>820</td>\n",
       "      <td>THEFT</td>\n",
       "      <td>$500 AND UNDER</td>\n",
       "      <td>OTHER</td>\n",
       "      <td>False</td>\n",
       "      <td>False</td>\n",
       "      <td>...</td>\n",
       "      <td>11</td>\n",
       "      <td>27.0</td>\n",
       "      <td>23.0</td>\n",
       "      <td>6</td>\n",
       "      <td>1152206.0</td>\n",
       "      <td>1906127.0</td>\n",
       "      <td>2004</td>\n",
       "      <td>41.89827996</td>\n",
       "      <td>-87.716406</td>\n",
       "      <td>(41.898279962, -87.716405505)</td>\n",
       "    </tr>\n",
       "    <tr>\n",
       "      <th>2</th>\n",
       "      <td>2</td>\n",
       "      <td>8002131</td>\n",
       "      <td>HT233595</td>\n",
       "      <td>043XX S WABASH AVE</td>\n",
       "      <td>820</td>\n",
       "      <td>THEFT</td>\n",
       "      <td>$500 AND UNDER</td>\n",
       "      <td>NURSING HOME/RETIREMENT HOME</td>\n",
       "      <td>False</td>\n",
       "      <td>False</td>\n",
       "      <td>...</td>\n",
       "      <td>2</td>\n",
       "      <td>3.0</td>\n",
       "      <td>38.0</td>\n",
       "      <td>6</td>\n",
       "      <td>1177436.0</td>\n",
       "      <td>1876313.0</td>\n",
       "      <td>2011</td>\n",
       "      <td>41.81593313</td>\n",
       "      <td>-87.624642</td>\n",
       "      <td>(41.815933131, -87.624642127)</td>\n",
       "    </tr>\n",
       "    <tr>\n",
       "      <th>3</th>\n",
       "      <td>3</td>\n",
       "      <td>7903289</td>\n",
       "      <td>HT133522</td>\n",
       "      <td>083XX S KINGSTON AVE</td>\n",
       "      <td>840</td>\n",
       "      <td>THEFT</td>\n",
       "      <td>FINANCIAL ID THEFT: OVER $300</td>\n",
       "      <td>RESIDENCE</td>\n",
       "      <td>False</td>\n",
       "      <td>False</td>\n",
       "      <td>...</td>\n",
       "      <td>4</td>\n",
       "      <td>7.0</td>\n",
       "      <td>46.0</td>\n",
       "      <td>6</td>\n",
       "      <td>1194622.0</td>\n",
       "      <td>1850125.0</td>\n",
       "      <td>2010</td>\n",
       "      <td>41.74366532</td>\n",
       "      <td>-87.562463</td>\n",
       "      <td>(41.743665322, -87.562462756)</td>\n",
       "    </tr>\n",
       "    <tr>\n",
       "      <th>4</th>\n",
       "      <td>4</td>\n",
       "      <td>10402076</td>\n",
       "      <td>HZ138551</td>\n",
       "      <td>033XX W 66TH ST</td>\n",
       "      <td>820</td>\n",
       "      <td>THEFT</td>\n",
       "      <td>$500 AND UNDER</td>\n",
       "      <td>ALLEY</td>\n",
       "      <td>False</td>\n",
       "      <td>False</td>\n",
       "      <td>...</td>\n",
       "      <td>8</td>\n",
       "      <td>15.0</td>\n",
       "      <td>66.0</td>\n",
       "      <td>6</td>\n",
       "      <td>1155240.0</td>\n",
       "      <td>1860661.0</td>\n",
       "      <td>2016</td>\n",
       "      <td>41.773455299999995</td>\n",
       "      <td>-87.706480</td>\n",
       "      <td>(41.773455295, -87.706480471)</td>\n",
       "    </tr>\n",
       "    <tr>\n",
       "      <th>5</th>\n",
       "      <td>5</td>\n",
       "      <td>7732712</td>\n",
       "      <td>HS540106</td>\n",
       "      <td>006XX W CHICAGO AVE</td>\n",
       "      <td>810</td>\n",
       "      <td>THEFT</td>\n",
       "      <td>OVER $500</td>\n",
       "      <td>PARKING LOT/GARAGE(NON.RESID.)</td>\n",
       "      <td>False</td>\n",
       "      <td>False</td>\n",
       "      <td>...</td>\n",
       "      <td>12</td>\n",
       "      <td>27.0</td>\n",
       "      <td>24.0</td>\n",
       "      <td>6</td>\n",
       "      <td>1171668.0</td>\n",
       "      <td>1905607.0</td>\n",
       "      <td>2010</td>\n",
       "      <td>41.89644677</td>\n",
       "      <td>-87.644939</td>\n",
       "      <td>(41.896446772, -87.644938678)</td>\n",
       "    </tr>\n",
       "    <tr>\n",
       "      <th>6</th>\n",
       "      <td>6</td>\n",
       "      <td>10769475</td>\n",
       "      <td>HZ534771</td>\n",
       "      <td>050XX N KEDZIE AVE</td>\n",
       "      <td>810</td>\n",
       "      <td>THEFT</td>\n",
       "      <td>OVER $500</td>\n",
       "      <td>STREET</td>\n",
       "      <td>False</td>\n",
       "      <td>False</td>\n",
       "      <td>...</td>\n",
       "      <td>17</td>\n",
       "      <td>33.0</td>\n",
       "      <td>14.0</td>\n",
       "      <td>6</td>\n",
       "      <td>1154133.0</td>\n",
       "      <td>1933314.0</td>\n",
       "      <td>2016</td>\n",
       "      <td>41.97284491</td>\n",
       "      <td>-87.708600</td>\n",
       "      <td>(41.972844913, -87.708600079)</td>\n",
       "    </tr>\n",
       "    <tr>\n",
       "      <th>7</th>\n",
       "      <td>7</td>\n",
       "      <td>4494340</td>\n",
       "      <td>HL793243</td>\n",
       "      <td>005XX E PERSHING RD</td>\n",
       "      <td>860</td>\n",
       "      <td>THEFT</td>\n",
       "      <td>RETAIL THEFT</td>\n",
       "      <td>GROCERY FOOD STORE</td>\n",
       "      <td>True</td>\n",
       "      <td>False</td>\n",
       "      <td>...</td>\n",
       "      <td>2</td>\n",
       "      <td>3.0</td>\n",
       "      <td>38.0</td>\n",
       "      <td>6</td>\n",
       "      <td>1180448.0</td>\n",
       "      <td>1879234.0</td>\n",
       "      <td>2005</td>\n",
       "      <td>41.82387989</td>\n",
       "      <td>-87.613504</td>\n",
       "      <td>(41.823879885, -87.613503857)</td>\n",
       "    </tr>\n",
       "    <tr>\n",
       "      <th>8</th>\n",
       "      <td>8</td>\n",
       "      <td>3778925</td>\n",
       "      <td>HL149610</td>\n",
       "      <td>100XX S WASHTENAW AVE</td>\n",
       "      <td>810</td>\n",
       "      <td>THEFT</td>\n",
       "      <td>OVER $500</td>\n",
       "      <td>STREET</td>\n",
       "      <td>False</td>\n",
       "      <td>False</td>\n",
       "      <td>...</td>\n",
       "      <td>22</td>\n",
       "      <td>19.0</td>\n",
       "      <td>72.0</td>\n",
       "      <td>6</td>\n",
       "      <td>1160129.0</td>\n",
       "      <td>1838040.0</td>\n",
       "      <td>2005</td>\n",
       "      <td>41.71128051</td>\n",
       "      <td>-87.689179</td>\n",
       "      <td>(41.711280513, -87.689179097)</td>\n",
       "    </tr>\n",
       "    <tr>\n",
       "      <th>9</th>\n",
       "      <td>9</td>\n",
       "      <td>3324217</td>\n",
       "      <td>HK361551</td>\n",
       "      <td>033XX W BELMONT AVE</td>\n",
       "      <td>820</td>\n",
       "      <td>THEFT</td>\n",
       "      <td>$500 AND UNDER</td>\n",
       "      <td>SMALL RETAIL STORE</td>\n",
       "      <td>False</td>\n",
       "      <td>False</td>\n",
       "      <td>...</td>\n",
       "      <td>17</td>\n",
       "      <td>35.0</td>\n",
       "      <td>21.0</td>\n",
       "      <td>6</td>\n",
       "      <td>1153590.0</td>\n",
       "      <td>1921084.0</td>\n",
       "      <td>2004</td>\n",
       "      <td>41.93929582</td>\n",
       "      <td>-87.710923</td>\n",
       "      <td>(41.939295821, -87.710923442)</td>\n",
       "    </tr>\n",
       "  </tbody>\n",
       "</table>\n",
       "<p>10 rows × 21 columns</p>\n",
       "</div>"
      ],
      "text/plain": [
       "   Column_0        ID CASE_NUMBER                     BLOCK IUCR PRIMARY_TYPE  \\\n",
       "0         0   3512276    HK587712        047XX S KEDZIE AVE  890        THEFT   \n",
       "1         1   3406613    HK456306  009XX N CENTRAL PARK AVE  820        THEFT   \n",
       "2         2   8002131    HT233595        043XX S WABASH AVE  820        THEFT   \n",
       "3         3   7903289    HT133522      083XX S KINGSTON AVE  840        THEFT   \n",
       "4         4  10402076    HZ138551           033XX W 66TH ST  820        THEFT   \n",
       "5         5   7732712    HS540106       006XX W CHICAGO AVE  810        THEFT   \n",
       "6         6  10769475    HZ534771        050XX N KEDZIE AVE  810        THEFT   \n",
       "7         7   4494340    HL793243       005XX E PERSHING RD  860        THEFT   \n",
       "8         8   3778925    HL149610     100XX S WASHTENAW AVE  810        THEFT   \n",
       "9         9   3324217    HK361551       033XX W BELMONT AVE  820        THEFT   \n",
       "\n",
       "                     DESCRIPTION            LOCATION_DESCRIPTION ARREST  \\\n",
       "0                  FROM BUILDING              SMALL RETAIL STORE  False   \n",
       "1                 $500 AND UNDER                           OTHER  False   \n",
       "2                 $500 AND UNDER    NURSING HOME/RETIREMENT HOME  False   \n",
       "3  FINANCIAL ID THEFT: OVER $300                       RESIDENCE  False   \n",
       "4                 $500 AND UNDER                           ALLEY  False   \n",
       "5                      OVER $500  PARKING LOT/GARAGE(NON.RESID.)  False   \n",
       "6                      OVER $500                          STREET  False   \n",
       "7                   RETAIL THEFT              GROCERY FOOD STORE   True   \n",
       "8                      OVER $500                          STREET  False   \n",
       "9                 $500 AND UNDER              SMALL RETAIL STORE  False   \n",
       "\n",
       "  DOMESTIC  ...  DISTRICT  WARD  COMMUNITY_AREA_NUMBER  FBICODE X_COORDINATE  \\\n",
       "0    False  ...         9  14.0                   58.0        6    1155838.0   \n",
       "1    False  ...        11  27.0                   23.0        6    1152206.0   \n",
       "2    False  ...         2   3.0                   38.0        6    1177436.0   \n",
       "3    False  ...         4   7.0                   46.0        6    1194622.0   \n",
       "4    False  ...         8  15.0                   66.0        6    1155240.0   \n",
       "5    False  ...        12  27.0                   24.0        6    1171668.0   \n",
       "6    False  ...        17  33.0                   14.0        6    1154133.0   \n",
       "7    False  ...         2   3.0                   38.0        6    1180448.0   \n",
       "8    False  ...        22  19.0                   72.0        6    1160129.0   \n",
       "9    False  ...        17  35.0                   21.0        6    1153590.0   \n",
       "\n",
       "   Y_COORDINATE  YEAR            LATITUDE  LONGITUDE  \\\n",
       "0     1873050.0  2004  41.807440500000006 -87.703956   \n",
       "1     1906127.0  2004         41.89827996 -87.716406   \n",
       "2     1876313.0  2011         41.81593313 -87.624642   \n",
       "3     1850125.0  2010         41.74366532 -87.562463   \n",
       "4     1860661.0  2016  41.773455299999995 -87.706480   \n",
       "5     1905607.0  2010         41.89644677 -87.644939   \n",
       "6     1933314.0  2016         41.97284491 -87.708600   \n",
       "7     1879234.0  2005         41.82387989 -87.613504   \n",
       "8     1838040.0  2005         41.71128051 -87.689179   \n",
       "9     1921084.0  2004         41.93929582 -87.710923   \n",
       "\n",
       "                        LOCATION  \n",
       "0    (41.8074405, -87.703955849)  \n",
       "1  (41.898279962, -87.716405505)  \n",
       "2  (41.815933131, -87.624642127)  \n",
       "3  (41.743665322, -87.562462756)  \n",
       "4  (41.773455295, -87.706480471)  \n",
       "5  (41.896446772, -87.644938678)  \n",
       "6  (41.972844913, -87.708600079)  \n",
       "7  (41.823879885, -87.613503857)  \n",
       "8  (41.711280513, -87.689179097)  \n",
       "9  (41.939295821, -87.710923442)  \n",
       "\n",
       "[10 rows x 21 columns]"
      ]
     },
     "execution_count": 11,
     "metadata": {},
     "output_type": "execute_result"
    }
   ],
   "source": [
    "selectQuery = \"SELECT * from CRIME_DATA LIMIT 10\"\n",
    "crime_10_df = pandas.read_sql(selectQuery, pconn)\n",
    "crime_10_df"
   ]
  },
  {
   "cell_type": "markdown",
   "metadata": {},
   "source": [
    "### Problem 3\n",
    "\n",
    "##### How many crimes involve an arrest?"
   ]
  },
  {
   "cell_type": "code",
   "execution_count": 54,
   "metadata": {},
   "outputs": [
    {
     "name": "stdout",
     "output_type": "stream",
     "text": [
      " * ibm_db_sa://fmw28835:***@dashdb-txn-sbox-yp-lon02-13.services.eu-gb.bluemix.net:50000/BLUDB\n",
      "Done.\n"
     ]
    },
    {
     "data": {
      "text/html": [
       "<table>\n",
       "    <tr>\n",
       "        <th>1</th>\n",
       "    </tr>\n",
       "    <tr>\n",
       "        <td>163</td>\n",
       "    </tr>\n",
       "</table>"
      ],
      "text/plain": [
       "[(Decimal('163'),)]"
      ]
     },
     "execution_count": 54,
     "metadata": {},
     "output_type": "execute_result"
    }
   ],
   "source": [
    "%%sql\n",
    "SELECT COUNT(*) FROM CRIME_DATA WHERE ARREST='True'"
   ]
  },
  {
   "cell_type": "code",
   "execution_count": 12,
   "metadata": {},
   "outputs": [
    {
     "data": {
      "text/plain": [
       "163"
      ]
     },
     "execution_count": 12,
     "metadata": {},
     "output_type": "execute_result"
    }
   ],
   "source": [
    "selectQuery = \"SELECT * from CRIME_DATA WHERE ARREST='True'\"\n",
    "arrest_df = pandas.read_sql(selectQuery, pconn)\n",
    "len(arrest_df)"
   ]
  },
  {
   "cell_type": "markdown",
   "metadata": {},
   "source": [
    "### Problem 4\n",
    "\n",
    "##### Which unique types of crimes have been recorded at GAS STATION locations?\n"
   ]
  },
  {
   "cell_type": "code",
   "execution_count": 55,
   "metadata": {},
   "outputs": [
    {
     "name": "stdout",
     "output_type": "stream",
     "text": [
      " * ibm_db_sa://fmw28835:***@dashdb-txn-sbox-yp-lon02-13.services.eu-gb.bluemix.net:50000/BLUDB\n",
      "Done.\n"
     ]
    },
    {
     "data": {
      "text/html": [
       "<table>\n",
       "    <tr>\n",
       "        <th>primary_type</th>\n",
       "    </tr>\n",
       "    <tr>\n",
       "        <td>CRIMINAL TRESPASS</td>\n",
       "    </tr>\n",
       "    <tr>\n",
       "        <td>NARCOTICS</td>\n",
       "    </tr>\n",
       "    <tr>\n",
       "        <td>ROBBERY</td>\n",
       "    </tr>\n",
       "    <tr>\n",
       "        <td>THEFT</td>\n",
       "    </tr>\n",
       "</table>"
      ],
      "text/plain": [
       "[('CRIMINAL TRESPASS',), ('NARCOTICS',), ('ROBBERY',), ('THEFT',)]"
      ]
     },
     "execution_count": 55,
     "metadata": {},
     "output_type": "execute_result"
    }
   ],
   "source": [
    "%%sql\n",
    "SELECT DISTINCT PRIMARY_TYPE FROM CRIME_DATA WHERE LOCATION_DESCRIPTION = 'GAS STATION'"
   ]
  },
  {
   "cell_type": "code",
   "execution_count": 13,
   "metadata": {},
   "outputs": [
    {
     "data": {
      "text/html": [
       "<div>\n",
       "<style scoped>\n",
       "    .dataframe tbody tr th:only-of-type {\n",
       "        vertical-align: middle;\n",
       "    }\n",
       "\n",
       "    .dataframe tbody tr th {\n",
       "        vertical-align: top;\n",
       "    }\n",
       "\n",
       "    .dataframe thead th {\n",
       "        text-align: right;\n",
       "    }\n",
       "</style>\n",
       "<table border=\"1\" class=\"dataframe\">\n",
       "  <thead>\n",
       "    <tr style=\"text-align: right;\">\n",
       "      <th></th>\n",
       "      <th>PRIMARY_TYPE</th>\n",
       "    </tr>\n",
       "  </thead>\n",
       "  <tbody>\n",
       "    <tr>\n",
       "      <th>0</th>\n",
       "      <td>CRIMINAL TRESPASS</td>\n",
       "    </tr>\n",
       "    <tr>\n",
       "      <th>1</th>\n",
       "      <td>NARCOTICS</td>\n",
       "    </tr>\n",
       "    <tr>\n",
       "      <th>2</th>\n",
       "      <td>ROBBERY</td>\n",
       "    </tr>\n",
       "    <tr>\n",
       "      <th>3</th>\n",
       "      <td>THEFT</td>\n",
       "    </tr>\n",
       "  </tbody>\n",
       "</table>\n",
       "</div>"
      ],
      "text/plain": [
       "        PRIMARY_TYPE\n",
       "0  CRIMINAL TRESPASS\n",
       "1          NARCOTICS\n",
       "2            ROBBERY\n",
       "3              THEFT"
      ]
     },
     "execution_count": 13,
     "metadata": {},
     "output_type": "execute_result"
    }
   ],
   "source": [
    "selectQuery = \"SELECT DISTINCT PRIMARY_TYPE FROM CRIME_DATA WHERE LOCATION_DESCRIPTION = 'GAS STATION'\"\n",
    "crime_type_df = pandas.read_sql(selectQuery, pconn)\n",
    "crime_type_df"
   ]
  },
  {
   "cell_type": "markdown",
   "metadata": {},
   "source": [
    "Hint: Which column lists types of crimes e.g. THEFT?"
   ]
  },
  {
   "cell_type": "markdown",
   "metadata": {},
   "source": [
    "### Problem 5\n",
    "\n",
    "##### In the CENUS_DATA table list all Community Areas whose names start with the letter ‘B’."
   ]
  },
  {
   "cell_type": "code",
   "execution_count": 56,
   "metadata": {},
   "outputs": [
    {
     "name": "stdout",
     "output_type": "stream",
     "text": [
      " * ibm_db_sa://fmw28835:***@dashdb-txn-sbox-yp-lon02-13.services.eu-gb.bluemix.net:50000/BLUDB\n",
      "Done.\n"
     ]
    },
    {
     "data": {
      "text/html": [
       "<table>\n",
       "    <tr>\n",
       "        <th>community_area_name</th>\n",
       "    </tr>\n",
       "    <tr>\n",
       "        <td>Belmont Cragin</td>\n",
       "    </tr>\n",
       "    <tr>\n",
       "        <td>Burnside</td>\n",
       "    </tr>\n",
       "    <tr>\n",
       "        <td>Brighton Park</td>\n",
       "    </tr>\n",
       "    <tr>\n",
       "        <td>Bridgeport</td>\n",
       "    </tr>\n",
       "    <tr>\n",
       "        <td>Beverly</td>\n",
       "    </tr>\n",
       "</table>"
      ],
      "text/plain": [
       "[('Belmont Cragin',),\n",
       " ('Burnside',),\n",
       " ('Brighton Park',),\n",
       " ('Bridgeport',),\n",
       " ('Beverly',)]"
      ]
     },
     "execution_count": 56,
     "metadata": {},
     "output_type": "execute_result"
    }
   ],
   "source": [
    "%%sql\n",
    "SELECT COMMUNITY_AREA_NAME FROM CENSUS_DATA WHERE COMMUNITY_AREA_NAME LIKE 'B%'"
   ]
  },
  {
   "cell_type": "code",
   "execution_count": 14,
   "metadata": {},
   "outputs": [
    {
     "data": {
      "text/html": [
       "<div>\n",
       "<style scoped>\n",
       "    .dataframe tbody tr th:only-of-type {\n",
       "        vertical-align: middle;\n",
       "    }\n",
       "\n",
       "    .dataframe tbody tr th {\n",
       "        vertical-align: top;\n",
       "    }\n",
       "\n",
       "    .dataframe thead th {\n",
       "        text-align: right;\n",
       "    }\n",
       "</style>\n",
       "<table border=\"1\" class=\"dataframe\">\n",
       "  <thead>\n",
       "    <tr style=\"text-align: right;\">\n",
       "      <th></th>\n",
       "      <th>COMMUNITY_AREA_NAME</th>\n",
       "    </tr>\n",
       "  </thead>\n",
       "  <tbody>\n",
       "    <tr>\n",
       "      <th>0</th>\n",
       "      <td>Belmont Cragin</td>\n",
       "    </tr>\n",
       "    <tr>\n",
       "      <th>1</th>\n",
       "      <td>Burnside</td>\n",
       "    </tr>\n",
       "    <tr>\n",
       "      <th>2</th>\n",
       "      <td>Brighton Park</td>\n",
       "    </tr>\n",
       "    <tr>\n",
       "      <th>3</th>\n",
       "      <td>Bridgeport</td>\n",
       "    </tr>\n",
       "    <tr>\n",
       "      <th>4</th>\n",
       "      <td>Beverly</td>\n",
       "    </tr>\n",
       "  </tbody>\n",
       "</table>\n",
       "</div>"
      ],
      "text/plain": [
       "  COMMUNITY_AREA_NAME\n",
       "0      Belmont Cragin\n",
       "1            Burnside\n",
       "2       Brighton Park\n",
       "3          Bridgeport\n",
       "4             Beverly"
      ]
     },
     "execution_count": 14,
     "metadata": {},
     "output_type": "execute_result"
    }
   ],
   "source": [
    "selectQuery = \"SELECT COMMUNITY_AREA_NAME from CENSUS_DATA WHERE COMMUNITY_AREA_NAME LIKE 'B%'\"\n",
    "\n",
    "#Execute the statement\n",
    "census_comm_df = pandas.read_sql(selectQuery, pconn)\n",
    "census_comm_df"
   ]
  },
  {
   "cell_type": "markdown",
   "metadata": {},
   "source": [
    "### Problem 6\n",
    "\n",
    "##### Which schools in Community Areas 10 to 15 are healthy school certified?"
   ]
  },
  {
   "cell_type": "code",
   "execution_count": 58,
   "metadata": {},
   "outputs": [
    {
     "name": "stdout",
     "output_type": "stream",
     "text": [
      " * ibm_db_sa://fmw28835:***@dashdb-txn-sbox-yp-lon02-13.services.eu-gb.bluemix.net:50000/BLUDB\n",
      "Done.\n"
     ]
    },
    {
     "data": {
      "text/html": [
       "<table>\n",
       "    <tr>\n",
       "        <th>name_of_school</th>\n",
       "    </tr>\n",
       "    <tr>\n",
       "        <td>Rufus M Hitch Elementary School</td>\n",
       "    </tr>\n",
       "</table>"
      ],
      "text/plain": [
       "[('Rufus M Hitch Elementary School',)]"
      ]
     },
     "execution_count": 58,
     "metadata": {},
     "output_type": "execute_result"
    }
   ],
   "source": [
    "%%sql\n",
    "SELECT NAME_OF_SCHOOL FROM CHICAGO_PUBLIC_SCHOOLS WHERE COMMUNITY_AREA_NUMBER > '9' AND COMMUNITY_AREA_NUMBER <'16' AND HEALTHY_SCHOOL_CERTIFIED = 'Yes'"
   ]
  },
  {
   "cell_type": "code",
   "execution_count": 15,
   "metadata": {},
   "outputs": [
    {
     "name": "stdout",
     "output_type": "stream",
     "text": [
      "School_ID\n",
      "NAME_OF_SCHOOL\n",
      "Elementary, Middle, or High School\n",
      "Street_Address\n",
      "City\n",
      "State\n",
      "ZIP_Code\n",
      "Phone_Number\n",
      "Link\n",
      "Network_Manager\n",
      "Collaborative_Name\n",
      "Adequate_Yearly_Progress_Made_\n",
      "Track_Schedule\n",
      "CPS_Performance_Policy_Status\n",
      "CPS_Performance_Policy_Level\n",
      "HEALTHY_SCHOOL_CERTIFIED\n",
      "Safety_Icon\n",
      "SAFETY_SCORE\n",
      "Family_Involvement_Icon\n",
      "Family_Involvement_Score\n",
      "Environment_Icon\n",
      "Environment_Score\n",
      "Instruction_Icon\n",
      "Instruction_Score\n",
      "Leaders_Icon\n",
      "Leaders_Score\n",
      "Teachers_Icon\n",
      "Teachers_Score\n",
      "Parent_Engagement_Icon\n",
      "Parent_Engagement_Score\n",
      "Parent_Environment_Icon\n",
      "Parent_Environment_Score\n",
      "AVERAGE_STUDENT_ATTENDANCE\n",
      "Rate_of_Misconducts__per_100_students_\n",
      "Average_Teacher_Attendance\n",
      "Individualized_Education_Program_Compliance_Rate\n",
      "Pk_2_Literacy__\n",
      "Pk_2_Math__\n",
      "Gr3_5_Grade_Level_Math__\n",
      "Gr3_5_Grade_Level_Read__\n",
      "Gr3_5_Keep_Pace_Read__\n",
      "Gr3_5_Keep_Pace_Math__\n",
      "Gr6_8_Grade_Level_Math__\n",
      "Gr6_8_Grade_Level_Read__\n",
      "Gr6_8_Keep_Pace_Math_\n",
      "Gr6_8_Keep_Pace_Read__\n",
      "Gr_8_Explore_Math__\n",
      "Gr_8_Explore_Read__\n",
      "ISAT_Exceeding_Math__\n",
      "ISAT_Exceeding_Reading__\n",
      "ISAT_Value_Add_Math\n",
      "ISAT_Value_Add_Read\n",
      "ISAT_Value_Add_Color_Math\n",
      "ISAT_Value_Add_Color_Read\n",
      "Students_Taking__Algebra__\n",
      "Students_Passing__Algebra__\n",
      "9th Grade EXPLORE (2009)\n",
      "9th Grade EXPLORE (2010)\n",
      "10th Grade PLAN (2009)\n",
      "10th Grade PLAN (2010)\n",
      "Net_Change_EXPLORE_and_PLAN\n",
      "11th Grade Average ACT (2011)\n",
      "Net_Change_PLAN_and_ACT\n",
      "College_Eligibility__\n",
      "Graduation_Rate__\n",
      "College_Enrollment_Rate__\n",
      "COLLEGE_ENROLLMENT\n",
      "General_Services_Route\n",
      "Freshman_on_Track_Rate__\n",
      "X_COORDINATE\n",
      "Y_COORDINATE\n",
      "Latitude\n",
      "Longitude\n",
      "COMMUNITY_AREA_NUMBER\n",
      "COMMUNITY_AREA_NAME\n",
      "Ward\n",
      "Police_District\n",
      "Location\n"
     ]
    }
   ],
   "source": [
    "selectQuery = \"SELECT * FROM CHICAGO_PUBLIC_SCHOOLS\"\n",
    "\n",
    "#Execute the statement\n",
    "schools_df = pandas.read_sql(selectQuery, pconn)\n",
    "for col in schools_df.columns:\n",
    "    print(col)"
   ]
  },
  {
   "cell_type": "code",
   "execution_count": 16,
   "metadata": {},
   "outputs": [
    {
     "data": {
      "text/plain": [
       "array(['NDA', '79.8', '64.2', '51.3', '48.8', '73.2', '40.4', '58', '47',\n",
       "       '79.6', '69.3', '54', '36.7', '31.3', '63.3', '85.1', '51', '37',\n",
       "       '40.9', '43.1', '45.1', '39.5', '78.5', '40.3', '44', '60.5',\n",
       "       '50.9', '57.4', '87.9', '68.8', '58.2', '57.6', '63.5', '55.7',\n",
       "       '52.9', '45.9', '45.2', '35', '79.7', '62.8', '75.5', '51.9',\n",
       "       '61.3', '60.4', '58.5', '74', '52.4', '54.4', '41.3', '90.7',\n",
       "       '54.9', '51.5', '42.2', '32.6', '49.1', '85.9', '41.5', '52.1',\n",
       "       '65.2', '42.9', '46.4', '65', '82.4', '43.8', '42.6', '88.3',\n",
       "       '62.2', '50', '86.9', '48.1'], dtype=object)"
      ]
     },
     "execution_count": 16,
     "metadata": {},
     "output_type": "execute_result"
    }
   ],
   "source": [
    "schools_df['College_Enrollment_Rate__'].unique()"
   ]
  },
  {
   "cell_type": "code",
   "execution_count": 17,
   "metadata": {},
   "outputs": [
    {
     "data": {
      "text/html": [
       "<div>\n",
       "<style scoped>\n",
       "    .dataframe tbody tr th:only-of-type {\n",
       "        vertical-align: middle;\n",
       "    }\n",
       "\n",
       "    .dataframe tbody tr th {\n",
       "        vertical-align: top;\n",
       "    }\n",
       "\n",
       "    .dataframe thead th {\n",
       "        text-align: right;\n",
       "    }\n",
       "</style>\n",
       "<table border=\"1\" class=\"dataframe\">\n",
       "  <thead>\n",
       "    <tr style=\"text-align: right;\">\n",
       "      <th></th>\n",
       "      <th>School_ID</th>\n",
       "      <th>NAME_OF_SCHOOL</th>\n",
       "      <th>Elementary, Middle, or High School</th>\n",
       "      <th>Street_Address</th>\n",
       "      <th>City</th>\n",
       "      <th>State</th>\n",
       "      <th>ZIP_Code</th>\n",
       "      <th>Phone_Number</th>\n",
       "      <th>Link</th>\n",
       "      <th>Network_Manager</th>\n",
       "      <th>...</th>\n",
       "      <th>Freshman_on_Track_Rate__</th>\n",
       "      <th>X_COORDINATE</th>\n",
       "      <th>Y_COORDINATE</th>\n",
       "      <th>Latitude</th>\n",
       "      <th>Longitude</th>\n",
       "      <th>COMMUNITY_AREA_NUMBER</th>\n",
       "      <th>COMMUNITY_AREA_NAME</th>\n",
       "      <th>Ward</th>\n",
       "      <th>Police_District</th>\n",
       "      <th>Location</th>\n",
       "    </tr>\n",
       "  </thead>\n",
       "  <tbody>\n",
       "    <tr>\n",
       "      <th>471</th>\n",
       "      <td>609995</td>\n",
       "      <td>Rufus M Hitch Elementary School</td>\n",
       "      <td>ES</td>\n",
       "      <td>5625 N McVicker Ave</td>\n",
       "      <td>Chicago</td>\n",
       "      <td>IL</td>\n",
       "      <td>60646</td>\n",
       "      <td>(773) 534-1189</td>\n",
       "      <td>http://schoolreports.cps.edu/SchoolProgressRep...</td>\n",
       "      <td>O'Hare Elementary Network</td>\n",
       "      <td>...</td>\n",
       "      <td>NDA</td>\n",
       "      <td>1134940.195</td>\n",
       "      <td>1937129.571</td>\n",
       "      <td>41.983678</td>\n",
       "      <td>-87.779086</td>\n",
       "      <td>10</td>\n",
       "      <td>NORWOOD PARK</td>\n",
       "      <td>45</td>\n",
       "      <td>16</td>\n",
       "      <td>(41.98367756, -87.77908614)</td>\n",
       "    </tr>\n",
       "  </tbody>\n",
       "</table>\n",
       "<p>1 rows × 78 columns</p>\n",
       "</div>"
      ],
      "text/plain": [
       "     School_ID                   NAME_OF_SCHOOL  \\\n",
       "471     609995  Rufus M Hitch Elementary School   \n",
       "\n",
       "    Elementary, Middle, or High School       Street_Address     City State  \\\n",
       "471                                 ES  5625 N McVicker Ave  Chicago    IL   \n",
       "\n",
       "     ZIP_Code    Phone_Number  \\\n",
       "471     60646  (773) 534-1189   \n",
       "\n",
       "                                                  Link  \\\n",
       "471  http://schoolreports.cps.edu/SchoolProgressRep...   \n",
       "\n",
       "               Network_Manager  ... Freshman_on_Track_Rate__ X_COORDINATE  \\\n",
       "471  O'Hare Elementary Network  ...                      NDA  1134940.195   \n",
       "\n",
       "    Y_COORDINATE   Latitude  Longitude COMMUNITY_AREA_NUMBER  \\\n",
       "471  1937129.571  41.983678 -87.779086                    10   \n",
       "\n",
       "    COMMUNITY_AREA_NAME  Ward Police_District                     Location  \n",
       "471        NORWOOD PARK    45              16  (41.98367756, -87.77908614)  \n",
       "\n",
       "[1 rows x 78 columns]"
      ]
     },
     "execution_count": 17,
     "metadata": {},
     "output_type": "execute_result"
    }
   ],
   "source": [
    "schools_df[(schools_df['COMMUNITY_AREA_NUMBER']>9) & (schools_df['COMMUNITY_AREA_NUMBER']<16) & (schools_df['HEALTHY_SCHOOL_CERTIFIED']=='Yes')]"
   ]
  },
  {
   "cell_type": "code",
   "execution_count": 18,
   "metadata": {},
   "outputs": [
    {
     "data": {
      "text/html": [
       "<div>\n",
       "<style scoped>\n",
       "    .dataframe tbody tr th:only-of-type {\n",
       "        vertical-align: middle;\n",
       "    }\n",
       "\n",
       "    .dataframe tbody tr th {\n",
       "        vertical-align: top;\n",
       "    }\n",
       "\n",
       "    .dataframe thead th {\n",
       "        text-align: right;\n",
       "    }\n",
       "</style>\n",
       "<table border=\"1\" class=\"dataframe\">\n",
       "  <thead>\n",
       "    <tr style=\"text-align: right;\">\n",
       "      <th></th>\n",
       "      <th>School_ID</th>\n",
       "      <th>NAME_OF_SCHOOL</th>\n",
       "      <th>Elementary, Middle, or High School</th>\n",
       "      <th>Street_Address</th>\n",
       "      <th>City</th>\n",
       "      <th>State</th>\n",
       "      <th>ZIP_Code</th>\n",
       "      <th>Phone_Number</th>\n",
       "      <th>Link</th>\n",
       "      <th>Network_Manager</th>\n",
       "      <th>...</th>\n",
       "      <th>Freshman_on_Track_Rate__</th>\n",
       "      <th>X_COORDINATE</th>\n",
       "      <th>Y_COORDINATE</th>\n",
       "      <th>Latitude</th>\n",
       "      <th>Longitude</th>\n",
       "      <th>COMMUNITY_AREA_NUMBER</th>\n",
       "      <th>COMMUNITY_AREA_NAME</th>\n",
       "      <th>Ward</th>\n",
       "      <th>Police_District</th>\n",
       "      <th>Location</th>\n",
       "    </tr>\n",
       "  </thead>\n",
       "  <tbody>\n",
       "    <tr>\n",
       "      <th>0</th>\n",
       "      <td>609995</td>\n",
       "      <td>Rufus M Hitch Elementary School</td>\n",
       "      <td>ES</td>\n",
       "      <td>5625 N McVicker Ave</td>\n",
       "      <td>Chicago</td>\n",
       "      <td>IL</td>\n",
       "      <td>60646</td>\n",
       "      <td>(773) 534-1189</td>\n",
       "      <td>http://schoolreports.cps.edu/SchoolProgressRep...</td>\n",
       "      <td>O'Hare Elementary Network</td>\n",
       "      <td>...</td>\n",
       "      <td>NDA</td>\n",
       "      <td>1134940.195</td>\n",
       "      <td>1937129.571</td>\n",
       "      <td>41.983678</td>\n",
       "      <td>-87.779086</td>\n",
       "      <td>10</td>\n",
       "      <td>NORWOOD PARK</td>\n",
       "      <td>45</td>\n",
       "      <td>16</td>\n",
       "      <td>(41.98367756, -87.77908614)</td>\n",
       "    </tr>\n",
       "  </tbody>\n",
       "</table>\n",
       "<p>1 rows × 78 columns</p>\n",
       "</div>"
      ],
      "text/plain": [
       "   School_ID                   NAME_OF_SCHOOL  \\\n",
       "0     609995  Rufus M Hitch Elementary School   \n",
       "\n",
       "  Elementary, Middle, or High School       Street_Address     City State  \\\n",
       "0                                 ES  5625 N McVicker Ave  Chicago    IL   \n",
       "\n",
       "   ZIP_Code    Phone_Number  \\\n",
       "0     60646  (773) 534-1189   \n",
       "\n",
       "                                                Link  \\\n",
       "0  http://schoolreports.cps.edu/SchoolProgressRep...   \n",
       "\n",
       "             Network_Manager  ... Freshman_on_Track_Rate__ X_COORDINATE  \\\n",
       "0  O'Hare Elementary Network  ...                      NDA  1134940.195   \n",
       "\n",
       "  Y_COORDINATE   Latitude  Longitude COMMUNITY_AREA_NUMBER  \\\n",
       "0  1937129.571  41.983678 -87.779086                    10   \n",
       "\n",
       "  COMMUNITY_AREA_NAME  Ward Police_District                     Location  \n",
       "0        NORWOOD PARK    45              16  (41.98367756, -87.77908614)  \n",
       "\n",
       "[1 rows x 78 columns]"
      ]
     },
     "execution_count": 18,
     "metadata": {},
     "output_type": "execute_result"
    }
   ],
   "source": [
    "selectQuery = \"SELECT * FROM CHICAGO_PUBLIC_SCHOOLS WHERE COMMUNITY_AREA_NUMBER > '9' AND COMMUNITY_AREA_NUMBER <'16' AND HEALTHY_SCHOOL_CERTIFIED = 'Yes' \"\n",
    "\n",
    "#Execute the statement\n",
    "schools_1015_health_certified_df = pandas.read_sql(selectQuery, pconn)\n",
    "schools_1015_health_certified_df"
   ]
  },
  {
   "cell_type": "markdown",
   "metadata": {},
   "source": [
    "### Problem 7\n",
    "\n",
    "##### What is the average school Safety Score? "
   ]
  },
  {
   "cell_type": "code",
   "execution_count": 59,
   "metadata": {},
   "outputs": [
    {
     "name": "stdout",
     "output_type": "stream",
     "text": [
      " * ibm_db_sa://fmw28835:***@dashdb-txn-sbox-yp-lon02-13.services.eu-gb.bluemix.net:50000/BLUDB\n",
      "Done.\n"
     ]
    },
    {
     "data": {
      "text/html": [
       "<table>\n",
       "    <tr>\n",
       "        <th>1</th>\n",
       "    </tr>\n",
       "    <tr>\n",
       "        <td>49.504873</td>\n",
       "    </tr>\n",
       "</table>"
      ],
      "text/plain": [
       "[(Decimal('49.504873'),)]"
      ]
     },
     "execution_count": 59,
     "metadata": {},
     "output_type": "execute_result"
    }
   ],
   "source": [
    "%%sql\n",
    "SELECT AVG(SAFETY_SCORE) FROM CHICAGO_PUBLIC_SCHOOLS"
   ]
  },
  {
   "cell_type": "code",
   "execution_count": 19,
   "metadata": {},
   "outputs": [
    {
     "data": {
      "text/html": [
       "<div>\n",
       "<style scoped>\n",
       "    .dataframe tbody tr th:only-of-type {\n",
       "        vertical-align: middle;\n",
       "    }\n",
       "\n",
       "    .dataframe tbody tr th {\n",
       "        vertical-align: top;\n",
       "    }\n",
       "\n",
       "    .dataframe thead th {\n",
       "        text-align: right;\n",
       "    }\n",
       "</style>\n",
       "<table border=\"1\" class=\"dataframe\">\n",
       "  <thead>\n",
       "    <tr style=\"text-align: right;\">\n",
       "      <th></th>\n",
       "      <th>1</th>\n",
       "    </tr>\n",
       "  </thead>\n",
       "  <tbody>\n",
       "    <tr>\n",
       "      <th>0</th>\n",
       "      <td>49.504873</td>\n",
       "    </tr>\n",
       "  </tbody>\n",
       "</table>\n",
       "</div>"
      ],
      "text/plain": [
       "           1\n",
       "0  49.504873"
      ]
     },
     "execution_count": 19,
     "metadata": {},
     "output_type": "execute_result"
    }
   ],
   "source": [
    "selectQuery = \"SELECT AVG(SAFETY_SCORE) FROM CHICAGO_PUBLIC_SCHOOLS\"\n",
    "\n",
    "avg_safety_score_df = pandas.read_sql(selectQuery, pconn)\n",
    "avg_safety_score_df"
   ]
  },
  {
   "cell_type": "markdown",
   "metadata": {},
   "source": [
    "### Problem 8\n",
    "\n",
    "##### List the top 5 Community Areas by average College Enrollment [number of students] "
   ]
  },
  {
   "cell_type": "code",
   "execution_count": 68,
   "metadata": {},
   "outputs": [
    {
     "name": "stdout",
     "output_type": "stream",
     "text": [
      " * ibm_db_sa://fmw28835:***@dashdb-txn-sbox-yp-lon02-13.services.eu-gb.bluemix.net:50000/BLUDB\n",
      "Done.\n"
     ]
    },
    {
     "data": {
      "text/html": [
       "<table>\n",
       "    <tr>\n",
       "        <th>community_area_name</th>\n",
       "        <th>number_of_students</th>\n",
       "    </tr>\n",
       "    <tr>\n",
       "        <td>ARCHER HEIGHTS</td>\n",
       "        <td>2411.500000</td>\n",
       "    </tr>\n",
       "    <tr>\n",
       "        <td>MONTCLARE</td>\n",
       "        <td>1317.000000</td>\n",
       "    </tr>\n",
       "    <tr>\n",
       "        <td>WEST ELSDON</td>\n",
       "        <td>1233.333333</td>\n",
       "    </tr>\n",
       "    <tr>\n",
       "        <td>BRIGHTON PARK</td>\n",
       "        <td>1205.875000</td>\n",
       "    </tr>\n",
       "    <tr>\n",
       "        <td>BELMONT CRAGIN</td>\n",
       "        <td>1198.833333</td>\n",
       "    </tr>\n",
       "</table>"
      ],
      "text/plain": [
       "[('ARCHER HEIGHTS', Decimal('2411.500000')),\n",
       " ('MONTCLARE', Decimal('1317.000000')),\n",
       " ('WEST ELSDON', Decimal('1233.333333')),\n",
       " ('BRIGHTON PARK', Decimal('1205.875000')),\n",
       " ('BELMONT CRAGIN', Decimal('1198.833333'))]"
      ]
     },
     "execution_count": 68,
     "metadata": {},
     "output_type": "execute_result"
    }
   ],
   "source": [
    "%%sql\n",
    "SELECT COMMUNITY_AREA_NAME, AVG(COLLEGE_ENROLLMENT) as number_of_students \n",
    "FROM CHICAGO_PUBLIC_SCHOOLS \n",
    "GROUP BY COMMUNITY_AREA_NAME \n",
    "ORDER BY number_of_students \n",
    "DESC LIMIT 5"
   ]
  },
  {
   "cell_type": "code",
   "execution_count": 65,
   "metadata": {},
   "outputs": [
    {
     "name": "stdout",
     "output_type": "stream",
     "text": [
      " * ibm_db_sa://fmw28835:***@dashdb-txn-sbox-yp-lon02-13.services.eu-gb.bluemix.net:50000/BLUDB\n",
      "(ibm_db_dbi.ProgrammingError) ibm_db_dbi::ProgrammingError: SQLNumResultCols failed: [IBM][CLI Driver][DB2/LINUXX8664] SQL0206N  \"COLLEGE_ENROLLMENT_RATE__\" is not valid in the context where it is used.  SQLSTATE=42703 SQLCODE=-206\n",
      "[SQL: SELECT COLLEGE_ENROLLMENT_RATE__ FROM CHICAGO_PUBLIC_SCHOOLS]\n",
      "(Background on this error at: http://sqlalche.me/e/13/f405)\n"
     ]
    }
   ],
   "source": [
    "%%sql\n",
    "SELECT COLLEGE_ENROLLMENT_RATE__ FROM CHICAGO_PUBLIC_SCHOOLS"
   ]
  },
  {
   "cell_type": "code",
   "execution_count": 63,
   "metadata": {},
   "outputs": [
    {
     "name": "stdout",
     "output_type": "stream",
     "text": [
      " * ibm_db_sa://fmw28835:***@dashdb-txn-sbox-yp-lon02-13.services.eu-gb.bluemix.net:50000/BLUDB\n",
      "Done.\n"
     ]
    },
    {
     "data": {
      "text/html": [
       "<table>\n",
       "    <tr>\n",
       "        <th>community_area_name</th>\n",
       "        <th>college_enrollment</th>\n",
       "    </tr>\n",
       "    <tr>\n",
       "        <td>NORTH CENTER</td>\n",
       "        <td>4368</td>\n",
       "    </tr>\n",
       "    <tr>\n",
       "        <td>ARCHER HEIGHTS</td>\n",
       "        <td>3320</td>\n",
       "    </tr>\n",
       "    <tr>\n",
       "        <td>NORWOOD PARK</td>\n",
       "        <td>2922</td>\n",
       "    </tr>\n",
       "    <tr>\n",
       "        <td>BRIGHTON PARK</td>\n",
       "        <td>2883</td>\n",
       "    </tr>\n",
       "    <tr>\n",
       "        <td>IRVING PARK</td>\n",
       "        <td>2366</td>\n",
       "    </tr>\n",
       "</table>"
      ],
      "text/plain": [
       "[('NORTH CENTER', 4368),\n",
       " ('ARCHER HEIGHTS', 3320),\n",
       " ('NORWOOD PARK', 2922),\n",
       " ('BRIGHTON PARK', 2883),\n",
       " ('IRVING PARK', 2366)]"
      ]
     },
     "execution_count": 63,
     "metadata": {},
     "output_type": "execute_result"
    }
   ],
   "source": [
    "%%sql\n",
    "SELECT COMMUNITY_AREA_NAME, COLLEGE_ENROLLMENT FROM CHICAGO_PUBLIC_SCHOOLS ORDER BY COLLEGE_ENROLLMENT DESC LIMIT 5"
   ]
  },
  {
   "cell_type": "code",
   "execution_count": 35,
   "metadata": {},
   "outputs": [
    {
     "ename": "DatabaseError",
     "evalue": "Execution failed on sql 'SELECT COMMUNITY_AREA_NAME FROM CHICAGO_PUBLIC_SCHOOLS ORDER BY COLLEGE_ENROLLMENT_RATE': ibm_db_dbi::ProgrammingError: SQLNumResultCols failed: [IBM][CLI Driver][DB2/LINUXX8664] SQL0206N  \"COLLEGE_ENROLLMENT_RATE\" is not valid in the context where it is used.  SQLSTATE=42703 SQLCODE=-206",
     "output_type": "error",
     "traceback": [
      "\u001b[0;31m---------------------------------------------------------------------------\u001b[0m",
      "\u001b[0;31mException\u001b[0m                                 Traceback (most recent call last)",
      "\u001b[0;32m~/conda/envs/python/lib/python3.6/site-packages/ibm_db_dbi.py\u001b[0m in \u001b[0;36m_set_cursor_helper\u001b[0;34m(self)\u001b[0m\n\u001b[1;32m   1234\u001b[0m         \u001b[0;32mtry\u001b[0m\u001b[0;34m:\u001b[0m\u001b[0;34m\u001b[0m\u001b[0;34m\u001b[0m\u001b[0m\n\u001b[0;32m-> 1235\u001b[0;31m             \u001b[0mnum_columns\u001b[0m \u001b[0;34m=\u001b[0m \u001b[0mibm_db\u001b[0m\u001b[0;34m.\u001b[0m\u001b[0mnum_fields\u001b[0m\u001b[0;34m(\u001b[0m\u001b[0mself\u001b[0m\u001b[0;34m.\u001b[0m\u001b[0mstmt_handler\u001b[0m\u001b[0;34m)\u001b[0m\u001b[0;34m\u001b[0m\u001b[0;34m\u001b[0m\u001b[0m\n\u001b[0m\u001b[1;32m   1236\u001b[0m         \u001b[0;32mexcept\u001b[0m \u001b[0mException\u001b[0m \u001b[0;32mas\u001b[0m \u001b[0minst\u001b[0m\u001b[0;34m:\u001b[0m\u001b[0;34m\u001b[0m\u001b[0;34m\u001b[0m\u001b[0m\n",
      "\u001b[0;31mException\u001b[0m: SQLNumResultCols failed: [IBM][CLI Driver][DB2/LINUXX8664] SQL0206N  \"COLLEGE_ENROLLMENT_RATE\" is not valid in the context where it is used.  SQLSTATE=42703 SQLCODE=-206",
      "\nDuring handling of the above exception, another exception occurred:\n",
      "\u001b[0;31mProgrammingError\u001b[0m                          Traceback (most recent call last)",
      "\u001b[0;32m~/conda/envs/python/lib/python3.6/site-packages/pandas/io/sql.py\u001b[0m in \u001b[0;36mexecute\u001b[0;34m(self, *args, **kwargs)\u001b[0m\n\u001b[1;32m   1585\u001b[0m         \u001b[0;32mtry\u001b[0m\u001b[0;34m:\u001b[0m\u001b[0;34m\u001b[0m\u001b[0;34m\u001b[0m\u001b[0m\n\u001b[0;32m-> 1586\u001b[0;31m             \u001b[0mcur\u001b[0m\u001b[0;34m.\u001b[0m\u001b[0mexecute\u001b[0m\u001b[0;34m(\u001b[0m\u001b[0;34m*\u001b[0m\u001b[0margs\u001b[0m\u001b[0;34m,\u001b[0m \u001b[0;34m**\u001b[0m\u001b[0mkwargs\u001b[0m\u001b[0;34m)\u001b[0m\u001b[0;34m\u001b[0m\u001b[0;34m\u001b[0m\u001b[0m\n\u001b[0m\u001b[1;32m   1587\u001b[0m             \u001b[0;32mreturn\u001b[0m \u001b[0mcur\u001b[0m\u001b[0;34m\u001b[0m\u001b[0;34m\u001b[0m\u001b[0m\n",
      "\u001b[0;32m~/conda/envs/python/lib/python3.6/site-packages/ibm_db_dbi.py\u001b[0m in \u001b[0;36mexecute\u001b[0;34m(self, operation, parameters)\u001b[0m\n\u001b[1;32m   1354\u001b[0m         \u001b[0mself\u001b[0m\u001b[0;34m.\u001b[0m\u001b[0m_prepare_helper\u001b[0m\u001b[0;34m(\u001b[0m\u001b[0moperation\u001b[0m\u001b[0;34m)\u001b[0m\u001b[0;34m\u001b[0m\u001b[0;34m\u001b[0m\u001b[0m\n\u001b[0;32m-> 1355\u001b[0;31m         \u001b[0mself\u001b[0m\u001b[0;34m.\u001b[0m\u001b[0m_set_cursor_helper\u001b[0m\u001b[0;34m(\u001b[0m\u001b[0;34m)\u001b[0m\u001b[0;34m\u001b[0m\u001b[0;34m\u001b[0m\u001b[0m\n\u001b[0m\u001b[1;32m   1356\u001b[0m         \u001b[0mself\u001b[0m\u001b[0;34m.\u001b[0m\u001b[0m_execute_helper\u001b[0m\u001b[0;34m(\u001b[0m\u001b[0mparameters\u001b[0m\u001b[0;34m)\u001b[0m\u001b[0;34m\u001b[0m\u001b[0;34m\u001b[0m\u001b[0m\n",
      "\u001b[0;32m~/conda/envs/python/lib/python3.6/site-packages/ibm_db_dbi.py\u001b[0m in \u001b[0;36m_set_cursor_helper\u001b[0;34m(self)\u001b[0m\n\u001b[1;32m   1237\u001b[0m             \u001b[0mself\u001b[0m\u001b[0;34m.\u001b[0m\u001b[0mmessages\u001b[0m\u001b[0;34m.\u001b[0m\u001b[0mappend\u001b[0m\u001b[0;34m(\u001b[0m\u001b[0m_get_exception\u001b[0m\u001b[0;34m(\u001b[0m\u001b[0minst\u001b[0m\u001b[0;34m)\u001b[0m\u001b[0;34m)\u001b[0m\u001b[0;34m\u001b[0m\u001b[0;34m\u001b[0m\u001b[0m\n\u001b[0;32m-> 1238\u001b[0;31m             \u001b[0;32mraise\u001b[0m \u001b[0mself\u001b[0m\u001b[0;34m.\u001b[0m\u001b[0mmessages\u001b[0m\u001b[0;34m[\u001b[0m\u001b[0mlen\u001b[0m\u001b[0;34m(\u001b[0m\u001b[0mself\u001b[0m\u001b[0;34m.\u001b[0m\u001b[0mmessages\u001b[0m\u001b[0;34m)\u001b[0m \u001b[0;34m-\u001b[0m \u001b[0;36m1\u001b[0m\u001b[0;34m]\u001b[0m\u001b[0;34m\u001b[0m\u001b[0;34m\u001b[0m\u001b[0m\n\u001b[0m\u001b[1;32m   1239\u001b[0m         \u001b[0;32mif\u001b[0m \u001b[0;32mnot\u001b[0m \u001b[0mnum_columns\u001b[0m\u001b[0;34m:\u001b[0m\u001b[0;34m\u001b[0m\u001b[0;34m\u001b[0m\u001b[0m\n",
      "\u001b[0;31mProgrammingError\u001b[0m: ibm_db_dbi::ProgrammingError: SQLNumResultCols failed: [IBM][CLI Driver][DB2/LINUXX8664] SQL0206N  \"COLLEGE_ENROLLMENT_RATE\" is not valid in the context where it is used.  SQLSTATE=42703 SQLCODE=-206",
      "\nThe above exception was the direct cause of the following exception:\n",
      "\u001b[0;31mDatabaseError\u001b[0m                             Traceback (most recent call last)",
      "\u001b[0;32m<ipython-input-35-f56145ec316d>\u001b[0m in \u001b[0;36m<module>\u001b[0;34m\u001b[0m\n\u001b[1;32m      1\u001b[0m \u001b[0mselectQuery\u001b[0m \u001b[0;34m=\u001b[0m \u001b[0;34m\"SELECT COMMUNITY_AREA_NAME FROM CHICAGO_PUBLIC_SCHOOLS ORDER BY COLLEGE_ENROLLMENT_RATE\"\u001b[0m\u001b[0;34m\u001b[0m\u001b[0;34m\u001b[0m\u001b[0m\n\u001b[0;32m----> 2\u001b[0;31m \u001b[0mtest_df\u001b[0m \u001b[0;34m=\u001b[0m \u001b[0mpandas\u001b[0m\u001b[0;34m.\u001b[0m\u001b[0mread_sql\u001b[0m\u001b[0;34m(\u001b[0m\u001b[0mselectQuery\u001b[0m\u001b[0;34m,\u001b[0m \u001b[0mpconn\u001b[0m\u001b[0;34m)\u001b[0m\u001b[0;34m\u001b[0m\u001b[0;34m\u001b[0m\u001b[0m\n\u001b[0m\u001b[1;32m      3\u001b[0m \u001b[0mtest_df\u001b[0m\u001b[0;34m\u001b[0m\u001b[0;34m\u001b[0m\u001b[0m\n",
      "\u001b[0;32m~/conda/envs/python/lib/python3.6/site-packages/pandas/io/sql.py\u001b[0m in \u001b[0;36mread_sql\u001b[0;34m(sql, con, index_col, coerce_float, params, parse_dates, columns, chunksize)\u001b[0m\n\u001b[1;32m    410\u001b[0m             \u001b[0mcoerce_float\u001b[0m\u001b[0;34m=\u001b[0m\u001b[0mcoerce_float\u001b[0m\u001b[0;34m,\u001b[0m\u001b[0;34m\u001b[0m\u001b[0;34m\u001b[0m\u001b[0m\n\u001b[1;32m    411\u001b[0m             \u001b[0mparse_dates\u001b[0m\u001b[0;34m=\u001b[0m\u001b[0mparse_dates\u001b[0m\u001b[0;34m,\u001b[0m\u001b[0;34m\u001b[0m\u001b[0;34m\u001b[0m\u001b[0m\n\u001b[0;32m--> 412\u001b[0;31m             \u001b[0mchunksize\u001b[0m\u001b[0;34m=\u001b[0m\u001b[0mchunksize\u001b[0m\u001b[0;34m,\u001b[0m\u001b[0;34m\u001b[0m\u001b[0;34m\u001b[0m\u001b[0m\n\u001b[0m\u001b[1;32m    413\u001b[0m         )\n\u001b[1;32m    414\u001b[0m \u001b[0;34m\u001b[0m\u001b[0m\n",
      "\u001b[0;32m~/conda/envs/python/lib/python3.6/site-packages/pandas/io/sql.py\u001b[0m in \u001b[0;36mread_query\u001b[0;34m(self, sql, index_col, coerce_float, params, parse_dates, chunksize)\u001b[0m\n\u001b[1;32m   1631\u001b[0m \u001b[0;34m\u001b[0m\u001b[0m\n\u001b[1;32m   1632\u001b[0m         \u001b[0margs\u001b[0m \u001b[0;34m=\u001b[0m \u001b[0m_convert_params\u001b[0m\u001b[0;34m(\u001b[0m\u001b[0msql\u001b[0m\u001b[0;34m,\u001b[0m \u001b[0mparams\u001b[0m\u001b[0;34m)\u001b[0m\u001b[0;34m\u001b[0m\u001b[0;34m\u001b[0m\u001b[0m\n\u001b[0;32m-> 1633\u001b[0;31m         \u001b[0mcursor\u001b[0m \u001b[0;34m=\u001b[0m \u001b[0mself\u001b[0m\u001b[0;34m.\u001b[0m\u001b[0mexecute\u001b[0m\u001b[0;34m(\u001b[0m\u001b[0;34m*\u001b[0m\u001b[0margs\u001b[0m\u001b[0;34m)\u001b[0m\u001b[0;34m\u001b[0m\u001b[0;34m\u001b[0m\u001b[0m\n\u001b[0m\u001b[1;32m   1634\u001b[0m         \u001b[0mcolumns\u001b[0m \u001b[0;34m=\u001b[0m \u001b[0;34m[\u001b[0m\u001b[0mcol_desc\u001b[0m\u001b[0;34m[\u001b[0m\u001b[0;36m0\u001b[0m\u001b[0;34m]\u001b[0m \u001b[0;32mfor\u001b[0m \u001b[0mcol_desc\u001b[0m \u001b[0;32min\u001b[0m \u001b[0mcursor\u001b[0m\u001b[0;34m.\u001b[0m\u001b[0mdescription\u001b[0m\u001b[0;34m]\u001b[0m\u001b[0;34m\u001b[0m\u001b[0;34m\u001b[0m\u001b[0m\n\u001b[1;32m   1635\u001b[0m \u001b[0;34m\u001b[0m\u001b[0m\n",
      "\u001b[0;32m~/conda/envs/python/lib/python3.6/site-packages/pandas/io/sql.py\u001b[0m in \u001b[0;36mexecute\u001b[0;34m(self, *args, **kwargs)\u001b[0m\n\u001b[1;32m   1596\u001b[0m \u001b[0;34m\u001b[0m\u001b[0m\n\u001b[1;32m   1597\u001b[0m             \u001b[0mex\u001b[0m \u001b[0;34m=\u001b[0m \u001b[0mDatabaseError\u001b[0m\u001b[0;34m(\u001b[0m\u001b[0;34mf\"Execution failed on sql '{args[0]}': {exc}\"\u001b[0m\u001b[0;34m)\u001b[0m\u001b[0;34m\u001b[0m\u001b[0;34m\u001b[0m\u001b[0m\n\u001b[0;32m-> 1598\u001b[0;31m             \u001b[0;32mraise\u001b[0m \u001b[0mex\u001b[0m \u001b[0;32mfrom\u001b[0m \u001b[0mexc\u001b[0m\u001b[0;34m\u001b[0m\u001b[0;34m\u001b[0m\u001b[0m\n\u001b[0m\u001b[1;32m   1599\u001b[0m \u001b[0;34m\u001b[0m\u001b[0m\n\u001b[1;32m   1600\u001b[0m     \u001b[0;34m@\u001b[0m\u001b[0mstaticmethod\u001b[0m\u001b[0;34m\u001b[0m\u001b[0;34m\u001b[0m\u001b[0m\n",
      "\u001b[0;31mDatabaseError\u001b[0m: Execution failed on sql 'SELECT COMMUNITY_AREA_NAME FROM CHICAGO_PUBLIC_SCHOOLS ORDER BY COLLEGE_ENROLLMENT_RATE': ibm_db_dbi::ProgrammingError: SQLNumResultCols failed: [IBM][CLI Driver][DB2/LINUXX8664] SQL0206N  \"COLLEGE_ENROLLMENT_RATE\" is not valid in the context where it is used.  SQLSTATE=42703 SQLCODE=-206"
     ]
    }
   ],
   "source": [
    "selectQuery = \"SELECT COMMUNITY_AREA_NAME FROM CHICAGO_PUBLIC_SCHOOLS ORDER BY COLLEGE_ENROLLMENT_RATE__ DESC LIMIT 5\"\n",
    "top_community_area_by_coll_enroll_df = pandas.read_sql(selectQuery, pconn)\n",
    "top_community_area_by_coll_enroll_df"
   ]
  },
  {
   "cell_type": "markdown",
   "metadata": {},
   "source": [
    "### Problem 9\n",
    "\n",
    "##### Use a sub-query to determine which Community Area has the least value for school Safety Score? "
   ]
  },
  {
   "cell_type": "code",
   "execution_count": 66,
   "metadata": {},
   "outputs": [
    {
     "name": "stdout",
     "output_type": "stream",
     "text": [
      " * ibm_db_sa://fmw28835:***@dashdb-txn-sbox-yp-lon02-13.services.eu-gb.bluemix.net:50000/BLUDB\n",
      "Done.\n"
     ]
    },
    {
     "data": {
      "text/html": [
       "<table>\n",
       "    <tr>\n",
       "        <th>community_area_name</th>\n",
       "        <th>safety_score</th>\n",
       "    </tr>\n",
       "    <tr>\n",
       "        <td>WASHINGTON PARK</td>\n",
       "        <td>1</td>\n",
       "    </tr>\n",
       "</table>"
      ],
      "text/plain": [
       "[('WASHINGTON PARK', 1)]"
      ]
     },
     "execution_count": 66,
     "metadata": {},
     "output_type": "execute_result"
    }
   ],
   "source": [
    "%%sql\n",
    "SELECT COMMUNITY_AREA_NAME, SAFETY_SCORE FROM CHICAGO_PUBLIC_SCHOOLS WHERE SAFETY_SCORE = (SELECT MIN(SAFETY_SCORE) FROM CHICAGO_PUBLIC_SCHOOLS)"
   ]
  },
  {
   "cell_type": "code",
   "execution_count": 44,
   "metadata": {},
   "outputs": [
    {
     "data": {
      "text/html": [
       "<div>\n",
       "<style scoped>\n",
       "    .dataframe tbody tr th:only-of-type {\n",
       "        vertical-align: middle;\n",
       "    }\n",
       "\n",
       "    .dataframe tbody tr th {\n",
       "        vertical-align: top;\n",
       "    }\n",
       "\n",
       "    .dataframe thead th {\n",
       "        text-align: right;\n",
       "    }\n",
       "</style>\n",
       "<table border=\"1\" class=\"dataframe\">\n",
       "  <thead>\n",
       "    <tr style=\"text-align: right;\">\n",
       "      <th></th>\n",
       "      <th>COMMUNITY_AREA_NAME</th>\n",
       "      <th>SAFETY_SCORE</th>\n",
       "    </tr>\n",
       "  </thead>\n",
       "  <tbody>\n",
       "    <tr>\n",
       "      <th>0</th>\n",
       "      <td>WASHINGTON PARK</td>\n",
       "      <td>1</td>\n",
       "    </tr>\n",
       "  </tbody>\n",
       "</table>\n",
       "</div>"
      ],
      "text/plain": [
       "  COMMUNITY_AREA_NAME  SAFETY_SCORE\n",
       "0     WASHINGTON PARK             1"
      ]
     },
     "execution_count": 44,
     "metadata": {},
     "output_type": "execute_result"
    }
   ],
   "source": [
    "selectQuery = \"SELECT COMMUNITY_AREA_NAME,SAFETY_SCORE FROM CHICAGO_PUBLIC_SCHOOLS WHERE SAFETY_SCORE = (SELECT MIN(SAFETY_SCORE) FROM CHICAGO_PUBLIC_SCHOOLS)\"\n",
    "safety_df = pandas.read_sql(selectQuery, pconn)\n",
    "safety_df"
   ]
  },
  {
   "cell_type": "markdown",
   "metadata": {},
   "source": [
    "### Problem 10\n",
    "\n",
    "##### [Without using an explicit JOIN operator] Find the Per Capita Income of the Community Area which has a school Safety Score of 1."
   ]
  },
  {
   "cell_type": "code",
   "execution_count": 70,
   "metadata": {},
   "outputs": [
    {
     "name": "stdout",
     "output_type": "stream",
     "text": [
      " * ibm_db_sa://fmw28835:***@dashdb-txn-sbox-yp-lon02-13.services.eu-gb.bluemix.net:50000/BLUDB\n",
      "Done.\n"
     ]
    },
    {
     "data": {
      "text/html": [
       "<table>\n",
       "    <tr>\n",
       "        <th>per_capita_income</th>\n",
       "        <th>community_area_name</th>\n",
       "    </tr>\n",
       "    <tr>\n",
       "        <td>13785</td>\n",
       "        <td>Washington Park</td>\n",
       "    </tr>\n",
       "</table>"
      ],
      "text/plain": [
       "[(13785, 'Washington Park')]"
      ]
     },
     "execution_count": 70,
     "metadata": {},
     "output_type": "execute_result"
    }
   ],
   "source": [
    "%%sql\n",
    "SELECT PER_CAPITA_INCOME, COMMUNITY_AREA_NAME \n",
    "FROM CENSUS_DATA \n",
    "WHERE COMMUNITY_AREA_NUMBER = \n",
    "(SELECT COMMUNITY_AREA_NUMBER FROM CHICAGO_PUBLIC_SCHOOLS WHERE SAFETY_SCORE = 1)"
   ]
  },
  {
   "cell_type": "code",
   "execution_count": 46,
   "metadata": {},
   "outputs": [
    {
     "data": {
      "text/html": [
       "<div>\n",
       "<style scoped>\n",
       "    .dataframe tbody tr th:only-of-type {\n",
       "        vertical-align: middle;\n",
       "    }\n",
       "\n",
       "    .dataframe tbody tr th {\n",
       "        vertical-align: top;\n",
       "    }\n",
       "\n",
       "    .dataframe thead th {\n",
       "        text-align: right;\n",
       "    }\n",
       "</style>\n",
       "<table border=\"1\" class=\"dataframe\">\n",
       "  <thead>\n",
       "    <tr style=\"text-align: right;\">\n",
       "      <th></th>\n",
       "      <th>PER_CAPITA_INCOME</th>\n",
       "      <th>COMMUNITY_AREA_NAME</th>\n",
       "    </tr>\n",
       "  </thead>\n",
       "  <tbody>\n",
       "    <tr>\n",
       "      <th>0</th>\n",
       "      <td>13785</td>\n",
       "      <td>Washington Park</td>\n",
       "    </tr>\n",
       "  </tbody>\n",
       "</table>\n",
       "</div>"
      ],
      "text/plain": [
       "   PER_CAPITA_INCOME COMMUNITY_AREA_NAME\n",
       "0              13785     Washington Park"
      ]
     },
     "execution_count": 46,
     "metadata": {},
     "output_type": "execute_result"
    }
   ],
   "source": [
    "#From problem 9 I Know Washington Park has a safety score of 1.\n",
    "selectQuery = \"SELECT PER_CAPITA_INCOME,COMMUNITY_AREA_NAME FROM CENSUS_DATA WHERE COMMUNITY_AREA_NAME LIKE 'Washington Park'\"\n",
    "pci_df = pandas.read_sql(selectQuery, pconn)\n",
    "pci_df"
   ]
  },
  {
   "cell_type": "code",
   "execution_count": 50,
   "metadata": {},
   "outputs": [
    {
     "name": "stdout",
     "output_type": "stream",
     "text": [
      " * ibm_db_sa://fmw28835:***@dashdb-txn-sbox-yp-lon02-13.services.eu-gb.bluemix.net:50000/BLUDB\n",
      "(ibm_db_dbi.ProgrammingError) ibm_db_dbi::ProgrammingError: SQLNumResultCols failed: [IBM][CLI Driver][DB2/LINUXX8664] SQL0206N  \"COLLEGE_ENROLLMENT_RATE\" is not valid in the context where it is used.  SQLSTATE=42703 SQLCODE=-206\n",
      "[SQL: SELECT COLLEGE_ENROLLMENT_RATE FROM CHICAGO_PUBLIC_SCHOOLS]\n",
      "(Background on this error at: http://sqlalche.me/e/13/f405)\n"
     ]
    }
   ],
   "source": []
  },
  {
   "cell_type": "markdown",
   "metadata": {},
   "source": [
    "Copyright &copy; 2018 [cognitiveclass.ai](cognitiveclass.ai?utm_source=bducopyrightlink&utm_medium=dswb&utm_campaign=bdu). This notebook and its source code are released under the terms of the [MIT License](https://bigdatauniversity.com/mit-license/).\n"
   ]
  }
 ],
 "metadata": {
  "kernelspec": {
   "display_name": "Python",
   "language": "python",
   "name": "conda-env-python-py"
  },
  "language_info": {
   "codemirror_mode": {
    "name": "ipython",
    "version": 3
   },
   "file_extension": ".py",
   "mimetype": "text/x-python",
   "name": "python",
   "nbconvert_exporter": "python",
   "pygments_lexer": "ipython3",
   "version": "3.6.11"
  },
  "widgets": {
   "state": {},
   "version": "1.1.2"
  }
 },
 "nbformat": 4,
 "nbformat_minor": 4
}
